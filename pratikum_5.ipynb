{
  "nbformat": 4,
  "nbformat_minor": 0,
  "metadata": {
    "colab": {
      "provenance": [],
      "authorship_tag": "ABX9TyMWxRRYWQRU+n28Rj/trfZn",
      "include_colab_link": true
    },
    "kernelspec": {
      "name": "python3",
      "display_name": "Python 3"
    },
    "language_info": {
      "name": "python"
    }
  },
  "cells": [
    {
      "cell_type": "markdown",
      "metadata": {
        "id": "view-in-github",
        "colab_type": "text"
      },
      "source": [
        "<a href=\"https://colab.research.google.com/github/ridho-128/pemerograman-dasar/blob/main/pratikum_5.ipynb\" target=\"_parent\"><img src=\"https://colab.research.google.com/assets/colab-badge.svg\" alt=\"Open In Colab\"/></a>"
      ]
    },
    {
      "cell_type": "markdown",
      "source": [
        "Mencetak Bilangan Ganjil dengan Fungsi Range"
      ],
      "metadata": {
        "id": "yGWWFbbhdgwS"
      }
    },
    {
      "cell_type": "code",
      "source": [
        "print(\"--- Soal 1 ---\")\n",
        "\n",
        "for angka in range(1, 10, 2):\n",
        "    print(angka)"
      ],
      "metadata": {
        "colab": {
          "base_uri": "https://localhost:8080/"
        },
        "id": "yaXmGvlPdksp",
        "outputId": "70e9250a-7c7d-4138-fea4-d0d57f6c9511"
      },
      "execution_count": null,
      "outputs": [
        {
          "output_type": "stream",
          "name": "stdout",
          "text": [
            "--- Soal 1 ---\n",
            "1\n",
            "3\n",
            "5\n",
            "7\n",
            "9\n"
          ]
        }
      ]
    },
    {
      "cell_type": "markdown",
      "source": [
        "Pemberhentian Proses"
      ],
      "metadata": {
        "id": "d5NE_SoPesh8"
      }
    },
    {
      "cell_type": "code",
      "source": [
        "print(\"--- Soal 2 ---\")\n",
        "kode_berhenti = 4232401042\n",
        "input_pengguna = 0\n",
        "\n",
        "while input_pengguna != kode_berhenti:\n",
        "    try:\n",
        "        input_pengguna = int(input(\"Masukkan NIM (NIM untuk berhenti): \"))\n",
        "    except ValueError:\n",
        "        print(\"Input tidak valid. Harap masukkan NIM.\")\n",
        "\n",
        "print(\"Perulangan telah dihentikan oleh sentinel NIM.\")\n"
      ],
      "metadata": {
        "colab": {
          "base_uri": "https://localhost:8080/"
        },
        "id": "k0DYC3l6iDj7",
        "outputId": "5f3da554-0d08-4a32-b2fb-cf63fccc583e"
      },
      "execution_count": null,
      "outputs": [
        {
          "output_type": "stream",
          "name": "stdout",
          "text": [
            "--- Soal 2 ---\n",
            "Masukkan NIM (NIM untuk berhenti): 4232401042\n",
            "Perulangan telah dihentikan oleh sentinel NIM.\n"
          ]
        }
      ]
    },
    {
      "cell_type": "markdown",
      "source": [
        "Menghitung Total Belanja dari Daftar"
      ],
      "metadata": {
        "id": "jDbgTs9yi1E6"
      }
    },
    {
      "cell_type": "code",
      "source": [
        "print(\"--- Soal 3 ---\")\n",
        "harga_barang = [15000, 25000, 10000, 5000, 7000, 9000, 12000, 20000, 2000, 17000]\n",
        "total_belanja = 0\n",
        "\n",
        "for harga in harga_barang:\n",
        "    total_belanja += harga\n",
        "\n",
        "print(\"Total biaya belanja adalah:\", total_belanja)"
      ],
      "metadata": {
        "colab": {
          "base_uri": "https://localhost:8080/"
        },
        "id": "YMLYxSGFi5_y",
        "outputId": "8afa2c32-8ddb-49db-d6bc-32f78b6208cd"
      },
      "execution_count": null,
      "outputs": [
        {
          "output_type": "stream",
          "name": "stdout",
          "text": [
            "--- Soal 3 ---\n",
            "Total biaya belanja adalah: 122000\n"
          ]
        }
      ]
    },
    {
      "cell_type": "markdown",
      "source": [
        "Batasan Percobaan (Limitasi Iterasi)"
      ],
      "metadata": {
        "id": "0iYHKe4ZkjDr"
      }
    },
    {
      "cell_type": "code",
      "source": [
        "print(\"--- Soal 4 ---\")\n",
        "percobaan_maksimal = 3\n",
        "percobaan_saat_ini = 1\n",
        "password_benar = \"zhemmboot\"\n",
        "\n",
        "while percobaan_saat_ini <= percobaan_maksimal:\n",
        "    print(f\"Percobaan ke-{percobaan_saat_ini}...\")\n",
        "    password = input(\"Masukkan password: \")\n",
        "\n",
        "    if password == password_benar:\n",
        "        break\n",
        "    else:\n",
        "        print(\"Password salah.\")\n",
        "        percobaan_saat_ini += 1\n",
        "\n",
        "if percobaan_saat_ini == percobaan_maksimal + 1:\n",
        "    print(\"Kesempatan habis.\")\n",
        "else:\n",
        "    print(\"Akses diterima.\")"
      ],
      "metadata": {
        "colab": {
          "base_uri": "https://localhost:8080/"
        },
        "id": "2MGiej1ppEMb",
        "outputId": "61e46b8c-90ba-4fb6-f3f5-8704b2107d87"
      },
      "execution_count": null,
      "outputs": [
        {
          "output_type": "stream",
          "name": "stdout",
          "text": [
            "--- Soal 4 ---\n",
            "Percobaan ke-1...\n",
            "Masukkan password: zhemmboot\n",
            "Akses diterima.\n"
          ]
        }
      ]
    },
    {
      "cell_type": "markdown",
      "source": [
        " Mencetak Karakter dari Teks"
      ],
      "metadata": {
        "id": "PPuQbV-CrQAC"
      }
    },
    {
      "cell_type": "code",
      "source": [
        "print(\"--- Soal 5 ---\")\n",
        "nama_proyek = \"PoliteknikNegeriBatam\"\n",
        "hasil_output = \"\"\n",
        "\n",
        "for karakter in nama_proyek:\n",
        "    hasil_output += karakter + \"-\"\n",
        "\n",
        "print(hasil_output)"
      ],
      "metadata": {
        "colab": {
          "base_uri": "https://localhost:8080/"
        },
        "id": "a5dBQIZirS6C",
        "outputId": "da14e760-fe77-49e8-cb96-61ee82067977"
      },
      "execution_count": null,
      "outputs": [
        {
          "output_type": "stream",
          "name": "stdout",
          "text": [
            "--- Soal 5 ---\n",
            "P-o-l-i-t-e-k-n-i-k-N-e-g-e-r-i-B-a-t-a-m-\n"
          ]
        }
      ]
    },
    {
      "cell_type": "markdown",
      "source": [
        "Iiterasi Mundur"
      ],
      "metadata": {
        "id": "Il68xGPmsUrR"
      }
    },
    {
      "cell_type": "code",
      "source": [
        "print(\"--- Soal 6 ---\")\n",
        "\n",
        "for i in range(255, 0, -1):\n",
        "    print(f\"hitung mundur: {i}\")"
      ],
      "metadata": {
        "colab": {
          "base_uri": "https://localhost:8080/"
        },
        "id": "GO2u3a4YsX9S",
        "outputId": "9e245e73-996e-4322-fe97-a53ad347c46a"
      },
      "execution_count": null,
      "outputs": [
        {
          "output_type": "stream",
          "name": "stdout",
          "text": [
            "--- Soal 6 ---\n",
            "hitung mundur: 255\n",
            "hitung mundur: 254\n",
            "hitung mundur: 253\n",
            "hitung mundur: 252\n",
            "hitung mundur: 251\n",
            "hitung mundur: 250\n",
            "hitung mundur: 249\n",
            "hitung mundur: 248\n",
            "hitung mundur: 247\n",
            "hitung mundur: 246\n",
            "hitung mundur: 245\n",
            "hitung mundur: 244\n",
            "hitung mundur: 243\n",
            "hitung mundur: 242\n",
            "hitung mundur: 241\n",
            "hitung mundur: 240\n",
            "hitung mundur: 239\n",
            "hitung mundur: 238\n",
            "hitung mundur: 237\n",
            "hitung mundur: 236\n",
            "hitung mundur: 235\n",
            "hitung mundur: 234\n",
            "hitung mundur: 233\n",
            "hitung mundur: 232\n",
            "hitung mundur: 231\n",
            "hitung mundur: 230\n",
            "hitung mundur: 229\n",
            "hitung mundur: 228\n",
            "hitung mundur: 227\n",
            "hitung mundur: 226\n",
            "hitung mundur: 225\n",
            "hitung mundur: 224\n",
            "hitung mundur: 223\n",
            "hitung mundur: 222\n",
            "hitung mundur: 221\n",
            "hitung mundur: 220\n",
            "hitung mundur: 219\n",
            "hitung mundur: 218\n",
            "hitung mundur: 217\n",
            "hitung mundur: 216\n",
            "hitung mundur: 215\n",
            "hitung mundur: 214\n",
            "hitung mundur: 213\n",
            "hitung mundur: 212\n",
            "hitung mundur: 211\n",
            "hitung mundur: 210\n",
            "hitung mundur: 209\n",
            "hitung mundur: 208\n",
            "hitung mundur: 207\n",
            "hitung mundur: 206\n",
            "hitung mundur: 205\n",
            "hitung mundur: 204\n",
            "hitung mundur: 203\n",
            "hitung mundur: 202\n",
            "hitung mundur: 201\n",
            "hitung mundur: 200\n",
            "hitung mundur: 199\n",
            "hitung mundur: 198\n",
            "hitung mundur: 197\n",
            "hitung mundur: 196\n",
            "hitung mundur: 195\n",
            "hitung mundur: 194\n",
            "hitung mundur: 193\n",
            "hitung mundur: 192\n",
            "hitung mundur: 191\n",
            "hitung mundur: 190\n",
            "hitung mundur: 189\n",
            "hitung mundur: 188\n",
            "hitung mundur: 187\n",
            "hitung mundur: 186\n",
            "hitung mundur: 185\n",
            "hitung mundur: 184\n",
            "hitung mundur: 183\n",
            "hitung mundur: 182\n",
            "hitung mundur: 181\n",
            "hitung mundur: 180\n",
            "hitung mundur: 179\n",
            "hitung mundur: 178\n",
            "hitung mundur: 177\n",
            "hitung mundur: 176\n",
            "hitung mundur: 175\n",
            "hitung mundur: 174\n",
            "hitung mundur: 173\n",
            "hitung mundur: 172\n",
            "hitung mundur: 171\n",
            "hitung mundur: 170\n",
            "hitung mundur: 169\n",
            "hitung mundur: 168\n",
            "hitung mundur: 167\n",
            "hitung mundur: 166\n",
            "hitung mundur: 165\n",
            "hitung mundur: 164\n",
            "hitung mundur: 163\n",
            "hitung mundur: 162\n",
            "hitung mundur: 161\n",
            "hitung mundur: 160\n",
            "hitung mundur: 159\n",
            "hitung mundur: 158\n",
            "hitung mundur: 157\n",
            "hitung mundur: 156\n",
            "hitung mundur: 155\n",
            "hitung mundur: 154\n",
            "hitung mundur: 153\n",
            "hitung mundur: 152\n",
            "hitung mundur: 151\n",
            "hitung mundur: 150\n",
            "hitung mundur: 149\n",
            "hitung mundur: 148\n",
            "hitung mundur: 147\n",
            "hitung mundur: 146\n",
            "hitung mundur: 145\n",
            "hitung mundur: 144\n",
            "hitung mundur: 143\n",
            "hitung mundur: 142\n",
            "hitung mundur: 141\n",
            "hitung mundur: 140\n",
            "hitung mundur: 139\n",
            "hitung mundur: 138\n",
            "hitung mundur: 137\n",
            "hitung mundur: 136\n",
            "hitung mundur: 135\n",
            "hitung mundur: 134\n",
            "hitung mundur: 133\n",
            "hitung mundur: 132\n",
            "hitung mundur: 131\n",
            "hitung mundur: 130\n",
            "hitung mundur: 129\n",
            "hitung mundur: 128\n",
            "hitung mundur: 127\n",
            "hitung mundur: 126\n",
            "hitung mundur: 125\n",
            "hitung mundur: 124\n",
            "hitung mundur: 123\n",
            "hitung mundur: 122\n",
            "hitung mundur: 121\n",
            "hitung mundur: 120\n",
            "hitung mundur: 119\n",
            "hitung mundur: 118\n",
            "hitung mundur: 117\n",
            "hitung mundur: 116\n",
            "hitung mundur: 115\n",
            "hitung mundur: 114\n",
            "hitung mundur: 113\n",
            "hitung mundur: 112\n",
            "hitung mundur: 111\n",
            "hitung mundur: 110\n",
            "hitung mundur: 109\n",
            "hitung mundur: 108\n",
            "hitung mundur: 107\n",
            "hitung mundur: 106\n",
            "hitung mundur: 105\n",
            "hitung mundur: 104\n",
            "hitung mundur: 103\n",
            "hitung mundur: 102\n",
            "hitung mundur: 101\n",
            "hitung mundur: 100\n",
            "hitung mundur: 99\n",
            "hitung mundur: 98\n",
            "hitung mundur: 97\n",
            "hitung mundur: 96\n",
            "hitung mundur: 95\n",
            "hitung mundur: 94\n",
            "hitung mundur: 93\n",
            "hitung mundur: 92\n",
            "hitung mundur: 91\n",
            "hitung mundur: 90\n",
            "hitung mundur: 89\n",
            "hitung mundur: 88\n",
            "hitung mundur: 87\n",
            "hitung mundur: 86\n",
            "hitung mundur: 85\n",
            "hitung mundur: 84\n",
            "hitung mundur: 83\n",
            "hitung mundur: 82\n",
            "hitung mundur: 81\n",
            "hitung mundur: 80\n",
            "hitung mundur: 79\n",
            "hitung mundur: 78\n",
            "hitung mundur: 77\n",
            "hitung mundur: 76\n",
            "hitung mundur: 75\n",
            "hitung mundur: 74\n",
            "hitung mundur: 73\n",
            "hitung mundur: 72\n",
            "hitung mundur: 71\n",
            "hitung mundur: 70\n",
            "hitung mundur: 69\n",
            "hitung mundur: 68\n",
            "hitung mundur: 67\n",
            "hitung mundur: 66\n",
            "hitung mundur: 65\n",
            "hitung mundur: 64\n",
            "hitung mundur: 63\n",
            "hitung mundur: 62\n",
            "hitung mundur: 61\n",
            "hitung mundur: 60\n",
            "hitung mundur: 59\n",
            "hitung mundur: 58\n",
            "hitung mundur: 57\n",
            "hitung mundur: 56\n",
            "hitung mundur: 55\n",
            "hitung mundur: 54\n",
            "hitung mundur: 53\n",
            "hitung mundur: 52\n",
            "hitung mundur: 51\n",
            "hitung mundur: 50\n",
            "hitung mundur: 49\n",
            "hitung mundur: 48\n",
            "hitung mundur: 47\n",
            "hitung mundur: 46\n",
            "hitung mundur: 45\n",
            "hitung mundur: 44\n",
            "hitung mundur: 43\n",
            "hitung mundur: 42\n",
            "hitung mundur: 41\n",
            "hitung mundur: 40\n",
            "hitung mundur: 39\n",
            "hitung mundur: 38\n",
            "hitung mundur: 37\n",
            "hitung mundur: 36\n",
            "hitung mundur: 35\n",
            "hitung mundur: 34\n",
            "hitung mundur: 33\n",
            "hitung mundur: 32\n",
            "hitung mundur: 31\n",
            "hitung mundur: 30\n",
            "hitung mundur: 29\n",
            "hitung mundur: 28\n",
            "hitung mundur: 27\n",
            "hitung mundur: 26\n",
            "hitung mundur: 25\n",
            "hitung mundur: 24\n",
            "hitung mundur: 23\n",
            "hitung mundur: 22\n",
            "hitung mundur: 21\n",
            "hitung mundur: 20\n",
            "hitung mundur: 19\n",
            "hitung mundur: 18\n",
            "hitung mundur: 17\n",
            "hitung mundur: 16\n",
            "hitung mundur: 15\n",
            "hitung mundur: 14\n",
            "hitung mundur: 13\n",
            "hitung mundur: 12\n",
            "hitung mundur: 11\n",
            "hitung mundur: 10\n",
            "hitung mundur: 9\n",
            "hitung mundur: 8\n",
            "hitung mundur: 7\n",
            "hitung mundur: 6\n",
            "hitung mundur: 5\n",
            "hitung mundur: 4\n",
            "hitung mundur: 3\n",
            "hitung mundur: 2\n",
            "hitung mundur: 1\n"
          ]
        }
      ]
    },
    {
      "cell_type": "markdown",
      "source": [
        "Mengakses Elemen dan Indeks Secara Bersamaan"
      ],
      "metadata": {
        "id": "x14wkpkls5ks"
      }
    },
    {
      "cell_type": "code",
      "source": [
        "print(\"--- Soal 7 ---\")\n",
        "kelurahan = [\"sei binti\", \"sagulung kota\", \"sei langkai\", \"sei lekop\", \"sei pelunggut\", \"tembesi\"]\n",
        "\n",
        "for i, nama in enumerate(kelurahan):\n",
        "    print(f\"kelurahan ke-{i + 1}: {nama}\")"
      ],
      "metadata": {
        "colab": {
          "base_uri": "https://localhost:8080/"
        },
        "id": "ZWsYaVuGtA5h",
        "outputId": "31cc80a8-1577-43d6-d92e-daec000c5bb1"
      },
      "execution_count": null,
      "outputs": [
        {
          "output_type": "stream",
          "name": "stdout",
          "text": [
            "--- Soal 7 ---\n",
            "kelurahan ke-1: sei binti\n",
            "kelurahan ke-2: sagulung kota\n",
            "kelurahan ke-3: sei langkai\n",
            "kelurahan ke-4: sei lekop\n",
            "kelurahan ke-5: sei pelunggut\n",
            "kelurahan ke-6: tembesi\n"
          ]
        }
      ]
    },
    {
      "cell_type": "markdown",
      "source": [
        " Kontrol Perulangan dengan break"
      ],
      "metadata": {
        "id": "qXJOTjEluyBh"
      }
    },
    {
      "cell_type": "code",
      "source": [
        "print(\"--- Soal 8 ---\")\n",
        "data_angka = [10, 20, 30, 0, 50, 60]\n",
        "\n",
        "for angka in data_angka:\n",
        "    if angka == 0:\n",
        "        break\n",
        "    print(angka)\n",
        "\n",
        "print(\"Program berhenti karena angka 0 ditemukan.\")"
      ],
      "metadata": {
        "colab": {
          "base_uri": "https://localhost:8080/"
        },
        "id": "_Kn54eM-u1yi",
        "outputId": "b89f35c3-c0bf-4511-9214-d9d3a0856d57"
      },
      "execution_count": null,
      "outputs": [
        {
          "output_type": "stream",
          "name": "stdout",
          "text": [
            "--- Soal 8 ---\n",
            "10\n",
            "20\n",
            "30\n",
            "Program berhenti karena angka 0 ditemukan.\n"
          ]
        }
      ]
    },
    {
      "cell_type": "markdown",
      "source": [
        "Penambahan Berkelanjutan dengan Batas"
      ],
      "metadata": {
        "id": "dekvdl6TvkQS"
      }
    },
    {
      "cell_type": "code",
      "source": [
        "print(\"--- Soal 9 ---\")\n",
        "total = 0\n",
        "bilangan = 1\n",
        "batas = 20\n",
        "\n",
        "while total < batas:\n",
        "    total += bilangan\n",
        "    bilangan += 1\n",
        "\n",
        "print(\"Total terakhir:\", total)"
      ],
      "metadata": {
        "colab": {
          "base_uri": "https://localhost:8080/"
        },
        "id": "Ht9P_9guvn9i",
        "outputId": "f028536f-eb4d-47d7-bfad-9c8f8b743c6d"
      },
      "execution_count": null,
      "outputs": [
        {
          "output_type": "stream",
          "name": "stdout",
          "text": [
            "--- Soal 9 ---\n",
            "Total terakhir: 21\n"
          ]
        }
      ]
    },
    {
      "cell_type": "markdown",
      "source": [
        "Perulangan Bersarang (Nested Loop) Sederhana"
      ],
      "metadata": {
        "id": "5e-TAVpTv5Jy"
      }
    },
    {
      "cell_type": "code",
      "source": [
        "print(\"--- Soal 10 ---\")\n",
        "jumlah_baris = 3\n",
        "\n",
        "for baris in range(jumlah_baris):\n",
        "    baris_teks = \"\"\n",
        "    for i in range(1):\n",
        "        baris_teks += \"Python \"\n",
        "    print(baris_teks)"
      ],
      "metadata": {
        "colab": {
          "base_uri": "https://localhost:8080/"
        },
        "id": "dvX2-Ntmv96S",
        "outputId": "8f4874bf-3bb4-4c2d-99a6-62b509d68661"
      },
      "execution_count": null,
      "outputs": [
        {
          "output_type": "stream",
          "name": "stdout",
          "text": [
            "--- Soal 10 ---\n",
            "Python \n",
            "Python \n",
            "Python \n"
          ]
        }
      ]
    }
  ]
}