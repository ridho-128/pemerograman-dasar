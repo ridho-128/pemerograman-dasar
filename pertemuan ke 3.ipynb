{
  "nbformat": 4,
  "nbformat_minor": 0,
  "metadata": {
    "colab": {
      "provenance": [],
      "authorship_tag": "ABX9TyPQdCfX7X3vlgjh32Bz/JNz",
      "include_colab_link": true
    },
    "kernelspec": {
      "name": "python3",
      "display_name": "Python 3"
    },
    "language_info": {
      "name": "python"
    }
  },
  "cells": [
    {
      "cell_type": "markdown",
      "metadata": {
        "id": "view-in-github",
        "colab_type": "text"
      },
      "source": [
        "<a href=\"https://colab.research.google.com/github/ridho-128/pemerograman-dasar/blob/main/pertemuan%20ke%203.ipynb\" target=\"_parent\"><img src=\"https://colab.research.google.com/assets/colab-badge.svg\" alt=\"Open In Colab\"/></a>"
      ]
    },
    {
      "cell_type": "markdown",
      "source": [
        "input dengan variabel bebas"
      ],
      "metadata": {
        "id": "BPP6PP7zeyEH"
      }
    },
    {
      "cell_type": "code",
      "execution_count": null,
      "metadata": {
        "colab": {
          "base_uri": "https://localhost:8080/"
        },
        "outputId": "8cd07074-23fb-44a2-ddc2-5a6eecb837d0",
        "id": "dIVz0frcXfLB"
      },
      "outputs": [
        {
          "name": "stdout",
          "output_type": "stream",
          "text": [
            "berapa porsi makan yang anda beli?:5\n",
            "siapa nama pelanggan ? :asep\n"
          ]
        }
      ],
      "source": [
        "total = input(\"berapa porsi makan yang anda beli?:\")\n",
        "nama = input(\"siapa nama pelanggan ? :\")"
      ]
    },
    {
      "cell_type": "markdown",
      "source": [
        "input dengan seusai tipe data (int dan str)"
      ],
      "metadata": {
        "id": "hO3NKOSke8-n"
      }
    },
    {
      "cell_type": "code",
      "execution_count": null,
      "metadata": {
        "colab": {
          "base_uri": "https://localhost:8080/"
        },
        "id": "Dh_hnddTTwPR",
        "outputId": "b6dca931-dfa6-4b0b-9e90-bf87d5beb480"
      },
      "outputs": [
        {
          "name": "stdout",
          "output_type": "stream",
          "text": [
            "berapa porsi makan yang anda beli?:10\n",
            "siapa nama pelanggan ? :asep\n"
          ]
        }
      ],
      "source": [
        "total = int (input(\"berapa porsi makan yang anda beli?:\"))\n",
        "nama = str (input(\"siapa nama pelanggan ? :\"))"
      ]
    },
    {
      "cell_type": "markdown",
      "source": [
        "input dengan tipe data float\n"
      ],
      "metadata": {
        "id": "xfolbAyvf8gn"
      }
    },
    {
      "cell_type": "code",
      "execution_count": null,
      "metadata": {
        "colab": {
          "base_uri": "https://localhost:8080/"
        },
        "outputId": "3a2a9b57-1034-4373-be44-4878a687af75",
        "id": "DKOKPi1bfa82"
      },
      "outputs": [
        {
          "name": "stdout",
          "output_type": "stream",
          "text": [
            "berapa indeks semester ?:3.70\n",
            "nama mahasiswa ? :asep\n"
          ]
        }
      ],
      "source": [
        "total = float (input(\"berapa indeks semester ?:\"))\n",
        "nama = str (input(\"nama mahasiswa ? :\"))"
      ]
    },
    {
      "cell_type": "markdown",
      "source": [
        "fungsi output dengan tipe data %d untuk integer"
      ],
      "metadata": {
        "id": "0UUUIfVUgAyG"
      }
    },
    {
      "cell_type": "code",
      "source": [
        "angka = 21\n",
        "print(\"Nilai integer:  %d\" % angka)"
      ],
      "metadata": {
        "colab": {
          "base_uri": "https://localhost:8080/"
        },
        "id": "7VmmQCqbahKz",
        "outputId": "c8e66554-ec2d-4632-d6d7-9466e0419d88"
      },
      "execution_count": null,
      "outputs": [
        {
          "output_type": "stream",
          "name": "stdout",
          "text": [
            "Nilai integer:  21\n"
          ]
        }
      ]
    },
    {
      "cell_type": "markdown",
      "source": [
        "fungsi output dengan tipe data %f untuk float"
      ],
      "metadata": {
        "id": "0_KNVjuJgvbv"
      }
    },
    {
      "cell_type": "code",
      "source": [
        "nilai = 1.1290823790\n",
        "print(\"Nilai float: %f\" % nilai)"
      ],
      "metadata": {
        "colab": {
          "base_uri": "https://localhost:8080/"
        },
        "id": "y394hGCwbgCR",
        "outputId": "7988a727-b495-4713-d2e7-5018f59bb555"
      },
      "execution_count": null,
      "outputs": [
        {
          "output_type": "stream",
          "name": "stdout",
          "text": [
            "Nilai float: 1.129082\n"
          ]
        }
      ]
    },
    {
      "cell_type": "markdown",
      "source": [
        "fungsi output dengan tipe data %x dan %o untuk hexadesimal dan oktal"
      ],
      "metadata": {
        "id": "d5fxW1fWg6fG"
      }
    },
    {
      "cell_type": "code",
      "source": [
        "bilangan = 500\n",
        "print(\"nilai dalam heksadesimal: %x\" % bilangan)\n",
        "print(\"nilai dalam oktal: %o\" % bilangan)"
      ],
      "metadata": {
        "colab": {
          "base_uri": "https://localhost:8080/"
        },
        "id": "gZ2xvyz1duAB",
        "outputId": "8d5aaae0-9534-4f4a-db82-2b7179bab263"
      },
      "execution_count": null,
      "outputs": [
        {
          "output_type": "stream",
          "name": "stdout",
          "text": [
            "nilai dalam heksadesimal: 1f4\n",
            "nilai dalam oktal: 764\n"
          ]
        }
      ]
    },
    {
      "cell_type": "markdown",
      "source": [
        "fungsi output dengan tipe data %s untuk string\n"
      ],
      "metadata": {
        "id": "1zKZBijMhKTF"
      }
    },
    {
      "cell_type": "code",
      "source": [
        "nama =  \"asep\"\n",
        "print(\"nama: %s\" % nama)"
      ],
      "metadata": {
        "colab": {
          "base_uri": "https://localhost:8080/"
        },
        "id": "E7R-gi_sb_nK",
        "outputId": "506b8085-e484-451b-8ee4-48d4f540d09b"
      },
      "execution_count": null,
      "outputs": [
        {
          "output_type": "stream",
          "name": "stdout",
          "text": [
            "nama: asep\n"
          ]
        }
      ]
    },
    {
      "cell_type": "markdown",
      "source": [
        "mengecek bilangan\n"
      ],
      "metadata": {
        "id": "xqA-LutciAFW"
      }
    },
    {
      "cell_type": "code",
      "source": [
        "bilanngan = 10\n",
        "hasil = (bilangan > 0) and (bilangan % 2 == 0)\n",
        "print(\"genap dan positif?\", hasil)"
      ],
      "metadata": {
        "colab": {
          "base_uri": "https://localhost:8080/"
        },
        "id": "0QPB9P43heoF",
        "outputId": "31f0ae3d-b06c-4397-cc80-c8735f54c136"
      },
      "execution_count": null,
      "outputs": [
        {
          "output_type": "stream",
          "name": "stdout",
          "text": [
            "genap dan positif? True\n"
          ]
        }
      ]
    },
    {
      "cell_type": "markdown",
      "source": [
        "kalkulator kasir"
      ],
      "metadata": {
        "id": "gmsR-PqUjkqF"
      }
    },
    {
      "cell_type": "code",
      "source": [
        "harga_makan = int(input(\"berapa harga mie ayam per porsi? \"))\n",
        "jumlah_makan = int(input(\"berapa porsi yang anda beli? \"))\n",
        "total_makan = harga_makan * jumlah_makan\n",
        "\n",
        "print(f\"harga makan per porsi = {harga_makan}, totalnya adalah {total_makan}\")"
      ],
      "metadata": {
        "colab": {
          "base_uri": "https://localhost:8080/"
        },
        "id": "eFCv0FQciC-u",
        "outputId": "8bf964b0-b775-45e9-8d17-6cea854eddb8"
      },
      "execution_count": null,
      "outputs": [
        {
          "output_type": "stream",
          "name": "stdout",
          "text": [
            "berapa harga mie ayam per porsi? 15000\n",
            "berapa porsi yang anda beli? 5\n",
            "harga makan per porsi = 15000, totalnya adalah 75000\n"
          ]
        }
      ]
    },
    {
      "cell_type": "markdown",
      "source": [
        "konversi waktu"
      ],
      "metadata": {
        "id": "l8h2LtKlkncz"
      }
    },
    {
      "cell_type": "code",
      "source": [
        "total_detik = 3600\n",
        "jam = total_detik // 3600\n",
        "sisa_detik = total_detik % 3600\n",
        "menit = sisa_detik // 6\n",
        "detik = sisa_detik % 60\n",
        "print(f\"Hasil konversi: {jam} jam, {menit} Menit, {detik} Detik\")\n",
        "total_detik = int (input(\"total_detik\"))"
      ],
      "metadata": {
        "colab": {
          "base_uri": "https://localhost:8080/"
        },
        "id": "d1fAUXJ5kOw0",
        "outputId": "6e7e0d5a-a4b4-4204-d4b8-1e0edf1d5b0d"
      },
      "execution_count": 1,
      "outputs": [
        {
          "name": "stdout",
          "output_type": "stream",
          "text": [
            "Hasil konversi: 1 jam, 0 Menit, 0 Detik\n",
            "total_detik358200\n"
          ]
        }
      ]
    },
    {
      "cell_type": "markdown",
      "source": [
        "menghitung nilai akhir mahasiswa"
      ],
      "metadata": {
        "id": "pZuqFQ6bnyw7"
      }
    },
    {
      "cell_type": "code",
      "source": [
        "tugas = 80\n",
        "uts = 70\n",
        "uas = 90\n",
        "nilai_akhir = (0.3 *tugas) + (0.3 * uts) + (0.4 * uas)\n",
        "print(\"Nilai akhir =\", nilai_akhir)"
      ],
      "metadata": {
        "colab": {
          "base_uri": "https://localhost:8080/"
        },
        "id": "WdrzgnB4ksWM",
        "outputId": "3eb6569d-e5d9-4886-bddd-7bbd9ebbdcd7"
      },
      "execution_count": null,
      "outputs": [
        {
          "output_type": "stream",
          "name": "stdout",
          "text": [
            "Nilai akhir = 81.0\n"
          ]
        }
      ]
    },
    {
      "cell_type": "code",
      "source": [
        "nilai_mahasiswa = 89\n",
        "standar_kelulusan = 70\n",
        "apakah_lulus = nilai_mahasiswa >= standar_kelulusan\n",
        "perlu_remedial = nilai_mahasiswa < standar_kelulusan\n",
        "print(f\"Nilai Mahasiswa: {nilai_mahasiswa}\")\n",
        "print(f\"Standar Kelulusan : {standar_kelulusan}\")\n",
        "print(f\"Apakah Mahasiswa Lulus? {apakah_lulus}\")\n",
        "print(f\"Perlu Remedial? {perlu_remedial}\")"
      ],
      "metadata": {
        "colab": {
          "base_uri": "https://localhost:8080/"
        },
        "id": "9zhkGDJ3ky2T",
        "outputId": "feb35db2-3f73-49f8-f888-d7b49d59645b"
      },
      "execution_count": null,
      "outputs": [
        {
          "output_type": "stream",
          "name": "stdout",
          "text": [
            "Nilai Mahasiswa: 89\n",
            "Standar Kelulusan : 70\n",
            "Apakah Mahasiswa Lulus? True\n",
            "Perlu Remedial? False\n"
          ]
        }
      ]
    },
    {
      "cell_type": "code",
      "source": [
        "belanja = 1500000\n",
        "diskon = (0, 0.35 * belanja)[belanja > 1200000]\n",
        "total_harga = belanja - diskon\n",
        "print(\"Total harga setelah diskon =\", total_harga)"
      ],
      "metadata": {
        "colab": {
          "base_uri": "https://localhost:8080/"
        },
        "id": "NcoxrEUFlh-G",
        "outputId": "b6669d4b-9f05-4f57-ca33-4cb943424829"
      },
      "execution_count": null,
      "outputs": [
        {
          "output_type": "stream",
          "name": "stdout",
          "text": [
            "Total harga setelah diskon = 975000.0\n"
          ]
        }
      ]
    }
  ]
}