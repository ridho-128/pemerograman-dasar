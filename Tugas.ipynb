{
  "nbformat": 4,
  "nbformat_minor": 0,
  "metadata": {
    "colab": {
      "provenance": [],
      "authorship_tag": "ABX9TyNVjVtgTSRkIw9PCVBMwWoR",
      "include_colab_link": true
    },
    "kernelspec": {
      "name": "python3",
      "display_name": "Python 3"
    },
    "language_info": {
      "name": "python"
    }
  },
  "cells": [
    {
      "cell_type": "markdown",
      "metadata": {
        "id": "view-in-github",
        "colab_type": "text"
      },
      "source": [
        "<a href=\"https://colab.research.google.com/github/ridho-128/pemerograman-dasar/blob/main/Tugas.ipynb\" target=\"_parent\"><img src=\"https://colab.research.google.com/assets/colab-badge.svg\" alt=\"Open In Colab\"/></a>"
      ]
    },
    {
      "cell_type": "code",
      "execution_count": 13,
      "metadata": {
        "colab": {
          "base_uri": "https://localhost:8080/"
        },
        "id": "MfEel3_9WAZV",
        "outputId": "258a36f9-96f1-401d-e8ae-1bb45a6902ac"
      },
      "outputs": [
        {
          "output_type": "stream",
          "name": "stdout",
          "text": [
            "------------------------------\n",
            "SELAMAT DATANG DI KAFE GEMINI\n",
            "------------------------------\n",
            "Menu Makanan & Minuman:\n",
            "1. Kopi Hitam   = Rp 12.000\n",
            "2. Teh Manis    = Rp 8.000\n",
            "3. Roti Bakar   = Rp 15.000\n",
            "4. Mie Instan   = Rp 10.000\n",
            "------------------------------\n",
            "Silakan masukkan nomor pilihan Anda (1-4): 4\n",
            "Anda memesan: Mie Instan dengan harga Rp 10000\n",
            "Diskon yang didapat: 0%\n",
            "Total yang harus dibayar: Rp 10000\n",
            "Masukkan jumlah uang Anda: Rp 20000\n",
            "Uang kembalian: Rp 10000\n",
            "Terima kasih sudah berbelanja!\n"
          ]
        }
      ],
      "source": [
        "print(\"-\"*30)\n",
        "print(\"SELAMAT DATANG DI KAFE GEMINI\")\n",
        "print(\"-\"*30)\n",
        "print(\"Menu Makanan & Minuman:\")\n",
        "print(\"1. Kopi Hitam   = Rp 12.000\")\n",
        "print(\"2. Teh Manis    = Rp 8.000\")\n",
        "print(\"3. Roti Bakar   = Rp 15.000\")\n",
        "print(\"4. Mie Instan   = Rp 10.000\")\n",
        "print(\"-\"*30)\n",
        "\n",
        "pilihan_str: str = input(\"Silakan masukkan nomor pilihan Anda (1-4): \")\n",
        "pilihan = int(pilihan_str)\n",
        "\n",
        "nama_pesanan: str = \"\"\n",
        "harga: int = 0\n",
        "\n",
        "if pilihan == 1:\n",
        "    nama_pesanan = \"Kopi Hitam\"\n",
        "    harga = 12000\n",
        "    print(f\"Anda memesan: {nama_pesanan} dengan harga Rp {harga}\")\n",
        "elif pilihan == 2:\n",
        "    nama_pesanan = \"Teh Manis\"\n",
        "    harga = 8000\n",
        "    print(f\"Anda memesan: {nama_pesanan} dengan harga Rp {harga}\")\n",
        "elif pilihan == 3:\n",
        "    nama_pesanan = \"Roti Bakar\"\n",
        "    harga = 15000\n",
        "    print(f\"Anda memesan: {nama_pesanan} dengan harga Rp {harga}\")\n",
        "elif pilihan == 4:\n",
        "    nama_pesanan = \"Mie Instan\"\n",
        "    harga = 10000\n",
        "    print(f\"Anda memesan: {nama_pesanan} dengan harga Rp {harga}\")\n",
        "else:\n",
        "    print(\"Maaf, Pilihan menu tidak valid, Silahkan jalankan ulang program\")\n",
        "\n",
        "if harga >= 50000:\n",
        "    diskon = 0.70   # 70%\n",
        "elif harga >= 30000:\n",
        "    diskon = 0.50   # 50%\n",
        "elif harga >= 20000:\n",
        "    diskon = 0.30   # 30%\n",
        "\n",
        "potongan = harga * diskon\n",
        "total_bayar = harga - potongan\n",
        "\n",
        "print(f\"Diskon yang didapat: {int(diskon*100)}%\")\n",
        "print(f\"Total yang harus dibayar: Rp {total_bayar}\")\n",
        "\n",
        "uang_dibayar = int(input(\"Masukkan jumlah uang Anda: Rp \"))\n",
        "if uang_dibayar >= total_bayar:\n",
        "    kembalian = uang_dibayar - total_bayar\n",
        "    print(f\"Uang kembalian: Rp {kembalian}\")\n",
        "    print(\"Terima kasih sudah berbelanja!\")\n",
        "else:\n",
        "    print(\"Uang tidak cukup, transaksi dibatalkan.\")"
      ]
    }
  ]
}