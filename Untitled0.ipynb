{
  "nbformat": 4,
  "nbformat_minor": 0,
  "metadata": {
    "colab": {
      "provenance": [],
      "authorship_tag": "ABX9TyNy03zJU+WCyQfNiQPyEPpG",
      "include_colab_link": true
    },
    "kernelspec": {
      "name": "python3",
      "display_name": "Python 3"
    },
    "language_info": {
      "name": "python"
    }
  },
  "cells": [
    {
      "cell_type": "markdown",
      "metadata": {
        "id": "view-in-github",
        "colab_type": "text"
      },
      "source": [
        "<a href=\"https://colab.research.google.com/github/ridho-128/pemerograman-dasar/blob/main/Untitled0.ipynb\" target=\"_parent\"><img src=\"https://colab.research.google.com/assets/colab-badge.svg\" alt=\"Open In Colab\"/></a>"
      ]
    },
    {
      "cell_type": "code",
      "execution_count": 5,
      "metadata": {
        "colab": {
          "base_uri": "https://localhost:8080/"
        },
        "id": "x6jXwFFAYKoF",
        "outputId": "327a3964-44cc-47c9-a27e-1953ebea0a7d"
      },
      "outputs": [
        {
          "output_type": "stream",
          "name": "stdout",
          "text": [
            "Nama saya pablo cursao\n"
          ]
        }
      ],
      "source": [
        "name = \"pablo cursao\"\n",
        "print(\"Nama saya {}\".format(name))\n"
      ]
    },
    {
      "cell_type": "code",
      "source": [
        "multi_line = \"\"\"lek! ada seratus?, pakek lu!.\"\"\"\n",
        "print(multi_line)"
      ],
      "metadata": {
        "colab": {
          "base_uri": "https://localhost:8080/"
        },
        "id": "ICVfN_zTZxsB",
        "outputId": "05fb48f6-84d3-4681-cac0-e0f65bf7a8e3"
      },
      "execution_count": 10,
      "outputs": [
        {
          "output_type": "stream",
          "name": "stdout",
          "text": [
            "lek! ada seratus?, pakek lu!.\n"
          ]
        }
      ]
    }
  ]
}