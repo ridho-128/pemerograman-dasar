{
  "nbformat": 4,
  "nbformat_minor": 0,
  "metadata": {
    "colab": {
      "provenance": [],
      "authorship_tag": "ABX9TyNSDHXm4KsJ8l0auTT6ceIW",
      "include_colab_link": true
    },
    "kernelspec": {
      "name": "python3",
      "display_name": "Python 3"
    },
    "language_info": {
      "name": "python"
    }
  },
  "cells": [
    {
      "cell_type": "markdown",
      "metadata": {
        "id": "view-in-github",
        "colab_type": "text"
      },
      "source": [
        "<a href=\"https://colab.research.google.com/github/ridho-128/pemerograman-dasar/blob/main/tugas_minggu_pengganti.ipynb\" target=\"_parent\"><img src=\"https://colab.research.google.com/assets/colab-badge.svg\" alt=\"Open In Colab\"/></a>"
      ]
    },
    {
      "cell_type": "markdown",
      "source": [
        "Fungsi Sederhana Tanpa Parameter (Inisialisasi)\n"
      ],
      "metadata": {
        "id": "cy5Pf1PcSGzI"
      }
    },
    {
      "cell_type": "code",
      "source": [
        "# SOAL 1: Fungsi Inisialisasi Sederhana\n",
        "def sapa_praktikan(nama):\n",
        "    \"\"\"Mencetak pesan sambutan dasar.\"\"\"\n",
        "    print(f\"Halo {nama}!\")\n",
        "    print(\"Sistem siap. Selamat datang kembali di sesi praktikum.\")\n",
        "\n",
        "# Pemanggilan fungsi sapa_praktikan\n",
        "sapa_praktikan(\"muhammad ridho\")\n",
        "\n",
        "# MODIFIKASI: Fungsi untuk menampilkan biodata lengkap\n",
        "def biodata(nama, nim, kelas, jurusan, kampus):\n",
        "    \"\"\"Menampilkan biodata lengkap praktikan.\"\"\"\n",
        "    print(\"===== BIODATA PRAKTIKAN =====\")\n",
        "    print(\"Nama       : {nama}\")\n",
        "    print(\"NIM        : {nim}\")\n",
        "    print(\"Kelas      : {kelas}\")\n",
        "    print(\"Jurusan    : {jurusan}\")\n",
        "    print(\"Kampus     : {kampus}\")\n",
        "\n",
        "# Pemanggilan fungsi biodata\n",
        "biodata(\"muhammad ridho\", \"4232401042\", \"RPE B PAGI\", \"Sistem Informasi Akuntansi\", \"Politeknik Negeri Batam\")"
      ],
      "metadata": {
        "colab": {
          "base_uri": "https://localhost:8080/"
        },
        "id": "j33qACJVSUPz",
        "outputId": "21daa334-235c-41ff-ffb7-7db871b6b196"
      },
      "execution_count": 6,
      "outputs": [
        {
          "output_type": "stream",
          "name": "stdout",
          "text": [
            "Halo muhammad ridho!\n",
            "Sistem siap. Selamat datang kembali di sesi praktikum.\n",
            "===== BIODATA PRAKTIKAN =====\n",
            "Nama       : {nama}\n",
            "NIM        : {nim}\n",
            "Kelas      : {kelas}\n",
            "Jurusan    : {jurusan}\n",
            "Kampus     : {kampus}\n"
          ]
        }
      ]
    },
    {
      "cell_type": "markdown",
      "source": [
        "Fungsi dengan Parameter Primitif (Matematika)"
      ],
      "metadata": {
        "id": "T3IF0gfmaKn8"
      }
    },
    {
      "cell_type": "code",
      "source": [
        "# SOAL 2: Menghitung Volume Kubus\n",
        "def hitung_volume_kubus(sisi):\n",
        "    \"\"\"Menghitung volume kubus dari panjang sisinya.\"\"\"\n",
        "    return sisi ** 3  # sisi pangkat tiga\n",
        "\n",
        "# Pemanggilan fungsi\n",
        "panjang_sisi = 5\n",
        "print(f\"Volume kubus dengan sisi {panjang_sisi} adalah: {hitung_volume_kubus(panjang_sisi)}\")\n",
        "\n",
        "\n",
        "# MODIFIKASI: Menghitung Volume Balok\n",
        "def hitung_volume_balok(panjang, lebar, tinggi):\n",
        "    \"\"\"Menghitung volume balok dari panjang, lebar, dan tinggi.\"\"\"\n",
        "    return panjang * lebar * tinggi\n",
        "\n",
        "# Pemanggilan fungsi modifikasi\n",
        "p = 10\n",
        "l = 4\n",
        "t = 3\n",
        "print(f\"Volume balok dengan ukuran {p} x {l} x {t} adalah: {hitung_volume_balok(p, l, t)}\")"
      ],
      "metadata": {
        "colab": {
          "base_uri": "https://localhost:8080/"
        },
        "id": "w3B_SGitaV0C",
        "outputId": "516ebf60-ce3f-414a-aa7b-0ebde88ad27c"
      },
      "execution_count": 7,
      "outputs": [
        {
          "output_type": "stream",
          "name": "stdout",
          "text": [
            "Volume kubus dengan sisi 5 adalah: 125\n",
            "Volume balok dengan ukuran 10 x 4 x 3 adalah: 120\n"
          ]
        }
      ]
    },
    {
      "cell_type": "markdown",
      "source": [
        "Fungsi dengan Parameter Non-Primitif (list) dan Perulangan (for)"
      ],
      "metadata": {
        "id": "0LNNcy_na9tW"
      }
    },
    {
      "cell_type": "code",
      "source": [
        "# SOAL 3: Menghitung Rata-rata dari List Nilai\n",
        "def hitung_rata_rata(data_nilai):\n",
        "    \"\"\"Menghitung rata-rata dari list angka menggunakan perulangan for.\"\"\"\n",
        "    total = 0\n",
        "\n",
        "    # Perulangan untuk menjumlahkan nilai\n",
        "    for nilai in data_nilai:\n",
        "        total += nilai\n",
        "\n",
        "    # Pembagian untuk rata-rata\n",
        "    if total > 0:\n",
        "        return total / len(data_nilai)\n",
        "    return 0\n",
        "\n",
        "# Pemanggilan fungsi dasar\n",
        "nilai_praktikan = [85, 78, 92, 65, 90]\n",
        "print(f\"Nilai rata-rata kelas adalah: {hitung_rata_rata(nilai_praktikan)}\")\n",
        "\n",
        "\n",
        "# MODIFIKASI: Menambahkan pengecekan nilai tidak valid\n",
        "def hitung_rata_rata_valid(data_nilai):\n",
        "    \"\"\"Menghitung rata-rata dengan memeriksa nilai yang valid (0–100).\"\"\"\n",
        "    total = 0\n",
        "    jumlah_valid = 0\n",
        "\n",
        "    for nilai in data_nilai:\n",
        "        # Mengecek apakah nilai valid\n",
        "        if 0 <= nilai <= 100:\n",
        "            total += nilai\n",
        "            jumlah_valid += 1\n",
        "        else:\n",
        "            print(f\"Nilai {nilai} tidak valid dan diabaikan.\")\n",
        "\n",
        "    if jumlah_valid > 0:\n",
        "        return total / jumlah_valid\n",
        "    else:\n",
        "        return 0\n",
        "\n",
        "# Pemanggilan fungsi modifikasi\n",
        "nilai_praktikan_mod = [85, 120, 78, -10, 92, 65, 90]\n",
        "print(f\"Nilai rata-rata kelas (nilai tidak valid diabaikan): {hitung_rata_rata_valid(nilai_praktikan_mod)}\")\n"
      ],
      "metadata": {
        "colab": {
          "base_uri": "https://localhost:8080/"
        },
        "id": "-EDdZLwybXmc",
        "outputId": "125bd2af-3b53-4917-c8a0-311b5ca12093"
      },
      "execution_count": 8,
      "outputs": [
        {
          "output_type": "stream",
          "name": "stdout",
          "text": [
            "Nilai rata-rata kelas adalah: 82.0\n",
            "Nilai 120 tidak valid dan diabaikan.\n",
            "Nilai -10 tidak valid dan diabaikan.\n",
            "Nilai rata-rata kelas (nilai tidak valid diabaikan): 82.0\n"
          ]
        }
      ]
    },
    {
      "cell_type": "markdown",
      "source": [
        "Fungsi dengan Percabangan (if, elif, else)"
      ],
      "metadata": {
        "id": "b01mncO8bdi0"
      }
    },
    {
      "cell_type": "code",
      "source": [
        "# SOAL 4: Sistem Penentuan Predikat Nilai\n",
        "def tentukan_predikat(skor):\n",
        "    \"\"\"Menentukan predikat (A, B, C, D, E) berdasarkan skor.\"\"\"\n",
        "    if skor >= 85:\n",
        "        return \"A\"\n",
        "    elif skor >= 70:\n",
        "        return \"B\"\n",
        "    elif skor >= 60:\n",
        "        return \"C\"\n",
        "    elif skor >= 50:\n",
        "        return \"D\"\n",
        "    else:\n",
        "        return \"E\"\n",
        "\n",
        "# Pemanggilan fungsi dasar\n",
        "print(f\"Skor 75 mendapat predikat: {tentukan_predikat(75)}\")\n",
        "print(f\"Skor 48 mendapat predikat: {tentukan_predikat(48)}\")\n",
        "\n",
        "\n",
        "# MODIFIKASI: Versi dengan pengecekan tipe data\n",
        "def tentukan_predikat_valid(skor):\n",
        "    \"\"\"Menentukan predikat hanya jika input adalah angka.\"\"\"\n",
        "    if isinstance(skor, (int, float)):\n",
        "        if skor >= 85:\n",
        "            return \"A\"\n",
        "        elif skor >= 70:\n",
        "            return \"B\"\n",
        "        elif skor >= 60:\n",
        "            return \"C\"\n",
        "        elif skor >= 50:\n",
        "            return \"D\"\n",
        "        else:\n",
        "            return \"E\"\n",
        "    else:\n",
        "        return \"Input tidak valid: bukan angka.\"\n",
        "\n",
        "# Pemanggilan fungsi modifikasi\n",
        "print(f\"Skor 'sembilan puluh' mendapat predikat: {tentukan_predikat_valid('sembilan puluh')}\")\n",
        "print(f\"Skor 95 mendapat predikat: {tentukan_predikat_valid(95)}\")"
      ],
      "metadata": {
        "colab": {
          "base_uri": "https://localhost:8080/"
        },
        "id": "6p-J7uClbkjF",
        "outputId": "1f388dec-a7a2-45c1-c6b2-6c5b39ffbb74"
      },
      "execution_count": 10,
      "outputs": [
        {
          "output_type": "stream",
          "name": "stdout",
          "text": [
            "Skor 75 mendapat predikat: B\n",
            "Skor 48 mendapat predikat: E\n",
            "Skor 'sembilan puluh' mendapat predikat: Input tidak valid: bukan angka.\n",
            "Skor 95 mendapat predikat: A\n"
          ]
        }
      ]
    },
    {
      "cell_type": "markdown",
      "source": [
        "Fungsi dengan Implementasi Perulangan while"
      ],
      "metadata": {
        "id": "Pj6HljPcb8ho"
      }
    },
    {
      "cell_type": "code",
      "source": [
        "# SOAL 5: Menghitung Faktorial dengan Loop While\n",
        "def hitung_faktorial(n):\n",
        "    \"\"\"Menghitung faktorial dari bilangan positif n.\"\"\"\n",
        "    hasil = 1\n",
        "\n",
        "    # Perulangan berjalan selama n lebih besar dari 1\n",
        "    while n > 1:\n",
        "        hasil *= n\n",
        "        n -= 1  # Kurangi n setiap iterasi\n",
        "    return hasil\n",
        "\n",
        "# Pemanggilan fungsi dasar\n",
        "bilangan_n = 4\n",
        "print(f\"Faktorial dari {bilangan_n} adalah: {hitung_faktorial(bilangan_n)}\")  # Output: 24\n",
        "\n",
        "\n",
        "# MODIFIKASI: Menangani kasus khusus n = 0 atau n < 0\n",
        "def hitung_faktorial_valid(n):\n",
        "    \"\"\"Menghitung faktorial dengan pengecekan nilai input.\"\"\"\n",
        "    if not isinstance(n, int):\n",
        "        return \"Error: Input harus berupa bilangan bulat (integer).\"\n",
        "    if n < 0:\n",
        "        return \"Error: Faktorial tidak terdefinisi untuk bilangan negatif.\"\n",
        "    if n == 0:\n",
        "        return 1  # Secara definisi, 0! = 1\n",
        "\n",
        "    hasil = 1\n",
        "    while n > 1:\n",
        "        hasil *= n\n",
        "        n -= 1\n",
        "    return hasil\n",
        "\n",
        "# Pemanggilan fungsi modifikasi\n",
        "print(f\"Faktorial dari 0 adalah: {hitung_faktorial_valid(0)}\")\n",
        "print(f\"Faktorial dari 5 adalah: {hitung_faktorial_valid(5)}\")\n",
        "print(f\"Faktorial dari -3 adalah: {hitung_faktorial_valid(-3)}\")\n",
        "print(f\"Faktorial dari 'empat' adalah: {hitung_faktorial_valid('empat')}\")\n"
      ],
      "metadata": {
        "colab": {
          "base_uri": "https://localhost:8080/"
        },
        "id": "91N1uWm_cB1c",
        "outputId": "6a68d272-4ad8-45f9-c8d0-1a32783c22aa"
      },
      "execution_count": 11,
      "outputs": [
        {
          "output_type": "stream",
          "name": "stdout",
          "text": [
            "Faktorial dari 4 adalah: 24\n",
            "Faktorial dari 0 adalah: 1\n",
            "Faktorial dari 5 adalah: 120\n",
            "Faktorial dari -3 adalah: Error: Faktorial tidak terdefinisi untuk bilangan negatif.\n",
            "Faktorial dari 'empat' adalah: Error: Input harus berupa bilangan bulat (integer).\n"
          ]
        }
      ]
    },
    {
      "cell_type": "markdown",
      "source": [
        "Fungsi Komprehensif (Gabungan Perulangan dan Percabangan)"
      ],
      "metadata": {
        "id": "kuDj-VNxdIpc"
      }
    },
    {
      "cell_type": "code",
      "source": [
        "# SOAL 6: Analisis Data Suhu Ekstrem (for dan if/elif)\n",
        "def analisis_suhu(data_suhu):\n",
        "    \"\"\"Menghitung jumlah hari Panas dan Dingin dari data_suhu.\"\"\"\n",
        "    panas_count = 0\n",
        "    dingin_count = 0  # Inisialisasi penghitung dingin\n",
        "\n",
        "    for suhu in data_suhu:\n",
        "        if suhu >= 35:\n",
        "            panas_count += 1\n",
        "        elif suhu <= 15:\n",
        "            dingin_count += 1\n",
        "\n",
        "    return panas_count, dingin_count\n",
        "\n",
        "# Pemanggilan fungsi dasar\n",
        "suhu_mingguan = [36, 30, 14, 25, 38, 16, 28]\n",
        "jumlah_panas, jumlah_dingin = analisis_suhu(suhu_mingguan)\n",
        "print(f\"Jumlah hari Panas (>=35°C): {jumlah_panas}\")\n",
        "print(f\"Jumlah hari Dingin (<=15°C): {jumlah_dingin}\")\n",
        "\n",
        "\n",
        "# MODIFIKASI: Menambahkan parameter opsional batas_panas dan batas_dingin\n",
        "def analisis_suhu_opsional(data_suhu, batas_panas=35, batas_dingin=15):\n",
        "    \"\"\"Menganalisis data suhu dengan batas suhu yang dapat diatur.\"\"\"\n",
        "    panas_count = 0\n",
        "    dingin_count = 0\n",
        "\n",
        "    for suhu in data_suhu:\n",
        "        if suhu >= batas_panas:\n",
        "            panas_count += 1\n",
        "        elif suhu <= batas_dingin:\n",
        "            dingin_count += 1\n",
        "\n",
        "    return panas_count, dingin_count\n",
        "\n",
        "# Pemanggilan fungsi modifikasi\n",
        "suhu_mingguan = [36, 30, 14, 25, 38, 16, 28]\n",
        "panas, dingin = analisis_suhu_opsional(suhu_mingguan)\n",
        "print(f\"\\nAnalisis default batas (panas≥35, dingin≤15):\")\n",
        "print(f\"Hari Panas : {panas}, Hari Dingin : {dingin}\")\n",
        "\n",
        "# Pemanggilan dengan batas berbeda\n",
        "panas2, dingin2 = analisis_suhu_opsional(suhu_mingguan, batas_panas=33, batas_dingin=18)\n",
        "print(f\"\\nAnalisis dengan batas berbeda (panas≥33, dingin≤18):\")\n",
        "print(f\"Hari Panas : {panas2}, Hari Dingin : {dingin2}\")\n"
      ],
      "metadata": {
        "colab": {
          "base_uri": "https://localhost:8080/"
        },
        "id": "jfS1IQiPdRjA",
        "outputId": "395ecbf1-47ca-4019-d9f4-1991087d115a"
      },
      "execution_count": 12,
      "outputs": [
        {
          "output_type": "stream",
          "name": "stdout",
          "text": [
            "Jumlah hari Panas (>=35°C): 2\n",
            "Jumlah hari Dingin (<=15°C): 1\n",
            "\n",
            "Analisis default batas (panas≥35, dingin≤15):\n",
            "Hari Panas : 2, Hari Dingin : 1\n",
            "\n",
            "Analisis dengan batas berbeda (panas≥33, dingin≤18):\n",
            "Hari Panas : 2, Hari Dingin : 2\n"
          ]
        }
      ]
    }
  ]
}