{
  "nbformat": 4,
  "nbformat_minor": 0,
  "metadata": {
    "colab": {
      "provenance": [],
      "authorship_tag": "ABX9TyN/4mgoxw2qeOtyiyTK/R5m",
      "include_colab_link": true
    },
    "kernelspec": {
      "name": "python3",
      "display_name": "Python 3"
    },
    "language_info": {
      "name": "python"
    }
  },
  "cells": [
    {
      "cell_type": "markdown",
      "metadata": {
        "id": "view-in-github",
        "colab_type": "text"
      },
      "source": [
        "<a href=\"https://colab.research.google.com/github/ridho-128/pemerograman-dasar/blob/main/Biodata.ipynb\" target=\"_parent\"><img src=\"https://colab.research.google.com/assets/colab-badge.svg\" alt=\"Open In Colab\"/></a>"
      ]
    },
    {
      "cell_type": "code",
      "execution_count": null,
      "metadata": {
        "colab": {
          "base_uri": "https://localhost:8080/"
        },
        "id": "HG3NloL7RtW0",
        "outputId": "677df34d-399c-4e27-b444-4345c2020d43"
      },
      "outputs": [
        {
          "output_type": "stream",
          "name": "stdout",
          "text": [
            "Muhammad Ridho\n",
            "21\n",
            "RPE\n",
            "3\n",
            "pemerograman dasar\n",
            "False\n"
          ]
        }
      ],
      "source": [
        "# Biodata saya\n",
        "\n",
        "nama = \"Muhammad Ridho\"\n",
        "umur = 21\n",
        "jurusan = \"RPE\"\n",
        "semester = 3\n",
        "matakuliah = 'pemerograman dasar'\n",
        "status_lulus = False\n",
        "\n",
        "print (nama)\n",
        "print (umur)\n",
        "print (jurusan)\n",
        "print (semester)\n",
        "print (matakuliah)\n",
        "print (status_lulus)\n"
      ]
    }
  ]
}